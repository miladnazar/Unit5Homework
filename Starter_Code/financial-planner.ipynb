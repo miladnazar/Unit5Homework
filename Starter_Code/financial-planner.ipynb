{
 "cells": [
  {
   "cell_type": "markdown",
   "metadata": {},
   "source": [
    "# Unit 5 - Financial Planning\n"
   ]
  },
  {
   "cell_type": "code",
   "execution_count": 2,
   "metadata": {},
   "outputs": [],
   "source": [
    "# Initial imports\n",
    "import os\n",
    "import requests\n",
    "import pandas as pd\n",
    "from dotenv import load_dotenv\n",
    "import alpaca_trade_api as tradeapi\n",
    "from MCForecastTools import MCSimulation\n",
    "\n",
    "%matplotlib inline"
   ]
  },
  {
   "cell_type": "code",
   "execution_count": 3,
   "metadata": {},
   "outputs": [
    {
     "data": {
      "text/plain": [
       "True"
      ]
     },
     "execution_count": 3,
     "metadata": {},
     "output_type": "execute_result"
    }
   ],
   "source": [
    "# Load .env enviroment variables\n",
    "load_dotenv()"
   ]
  },
  {
   "cell_type": "markdown",
   "metadata": {},
   "source": [
    "## Part 1 - Personal Finance Planner"
   ]
  },
  {
   "cell_type": "markdown",
   "metadata": {},
   "source": [
    "### Collect Crypto Prices Using the `requests` Library"
   ]
  },
  {
   "cell_type": "code",
   "execution_count": 4,
   "metadata": {},
   "outputs": [],
   "source": [
    "# Set current amount of crypto assets\n",
    "My_BTC = 1.2\n",
    "My_ETH = 5.3"
   ]
  },
  {
   "cell_type": "code",
   "execution_count": 5,
   "metadata": {},
   "outputs": [
    {
     "data": {
      "text/plain": [
       "<Response [200]>"
      ]
     },
     "execution_count": 5,
     "metadata": {},
     "output_type": "execute_result"
    }
   ],
   "source": [
    "# Crypto API URLs\n",
    "BTC_URL = \"https://api.alternative.me/v2/ticker/Bitcoin/?convert=CAD\"\n",
    "ETH_URL = \"https://api.alternative.me/v2/ticker/Ethereum/?convert=CAD\"\n",
    "requests.get(BTC_URL)"
   ]
  },
  {
   "cell_type": "code",
   "execution_count": 6,
   "metadata": {},
   "outputs": [
    {
     "name": "stdout",
     "output_type": "stream",
     "text": [
      "The current value of your 1.2 BTC is $15940.73\n",
      "The current value of your 5.3 ETH is $2072.25\n"
     ]
    }
   ],
   "source": [
    "# Fetch current BTC price\n",
    "Fetch_Data = requests.get(BTC_URL).json()\n",
    "Price_BTC = Fetch_Data['data']['1']['quotes']['USD']['price']\n",
    "\n",
    "# Fetch current ETH price\n",
    "Fetch_Data = requests.get(ETH_URL).json()\n",
    "Price_ETH = Fetch_Data['data']['1027']['quotes']['USD']['price']\n",
    "\n",
    "# Compute current value of my crpto\n",
    "My_BTC_Value = My_BTC * Price_BTC\n",
    "My_ETH_Value = My_ETH * Price_ETH\n",
    "\n",
    "# Print current crypto wallet balance\n",
    "print(f\"The current value of your {My_BTC} BTC is ${My_BTC_Value:0.2f}\")\n",
    "print(f\"The current value of your {My_ETH} ETH is ${My_ETH_Value:0.2f}\")"
   ]
  },
  {
   "cell_type": "markdown",
   "metadata": {},
   "source": [
    "### Collect Investments Data Using Alpaca: `SPY` (stocks) and `AGG` (bonds)"
   ]
  },
  {
   "cell_type": "code",
   "execution_count": 7,
   "metadata": {},
   "outputs": [],
   "source": [
    "# Current amount of shares\n",
    "My_SPY = 50\n",
    "My_AGG = 200"
   ]
  },
  {
   "cell_type": "code",
   "execution_count": 8,
   "metadata": {},
   "outputs": [],
   "source": [
    "# Set Alpaca API key and secret\n",
    "Alpaca_API_Key = os.getenv(\"ALPACA_API_KEY\")\n",
    "Alpaca_Secret_Key = os.getenv(\"ALPACA_SECRET_KEY\")\n",
    "\n",
    "# Create the Alpaca API object\n",
    "Alpaca = tradeapi.REST(\n",
    "    Alpaca_API_Key,\n",
    "    Alpaca_Secret_Key,\n",
    "    api_version=\"v2\")"
   ]
  },
  {
   "cell_type": "code",
   "execution_count": 9,
   "metadata": {},
   "outputs": [
    {
     "data": {
      "text/html": [
       "<div>\n",
       "<style scoped>\n",
       "    .dataframe tbody tr th:only-of-type {\n",
       "        vertical-align: middle;\n",
       "    }\n",
       "\n",
       "    .dataframe tbody tr th {\n",
       "        vertical-align: top;\n",
       "    }\n",
       "\n",
       "    .dataframe thead tr th {\n",
       "        text-align: left;\n",
       "    }\n",
       "</style>\n",
       "<table border=\"1\" class=\"dataframe\">\n",
       "  <thead>\n",
       "    <tr>\n",
       "      <th></th>\n",
       "      <th colspan=\"5\" halign=\"left\">AGG</th>\n",
       "      <th colspan=\"5\" halign=\"left\">SPY</th>\n",
       "    </tr>\n",
       "    <tr>\n",
       "      <th></th>\n",
       "      <th>open</th>\n",
       "      <th>high</th>\n",
       "      <th>low</th>\n",
       "      <th>close</th>\n",
       "      <th>volume</th>\n",
       "      <th>open</th>\n",
       "      <th>high</th>\n",
       "      <th>low</th>\n",
       "      <th>close</th>\n",
       "      <th>volume</th>\n",
       "    </tr>\n",
       "  </thead>\n",
       "  <tbody>\n",
       "    <tr>\n",
       "      <th>2020-10-27 00:00:00-04:00</th>\n",
       "      <td>117.8</td>\n",
       "      <td>117.91</td>\n",
       "      <td>117.7275</td>\n",
       "      <td>117.87</td>\n",
       "      <td>5016038</td>\n",
       "      <td>339.76</td>\n",
       "      <td>340.12</td>\n",
       "      <td>337.99</td>\n",
       "      <td>338.25</td>\n",
       "      <td>50634843</td>\n",
       "    </tr>\n",
       "  </tbody>\n",
       "</table>\n",
       "</div>"
      ],
      "text/plain": [
       "                             AGG                                        SPY  \\\n",
       "                            open    high       low   close   volume    open   \n",
       "2020-10-27 00:00:00-04:00  117.8  117.91  117.7275  117.87  5016038  339.76   \n",
       "\n",
       "                                                             \n",
       "                             high     low   close    volume  \n",
       "2020-10-27 00:00:00-04:00  340.12  337.99  338.25  50634843  "
      ]
     },
     "execution_count": 9,
     "metadata": {},
     "output_type": "execute_result"
    }
   ],
   "source": [
    "# Format current date as ISO format\n",
    "Now = pd.Timestamp(\"2020-10-27\", tz=\"America/New_York\").isoformat()\n",
    "\n",
    "# Set the tickers\n",
    "tickers = [\"AGG\", \"SPY\"]\n",
    "\n",
    "# Set timeframe to '1D' for Alpaca API\n",
    "timeframe = \"1D\"\n",
    "\n",
    "# Get current closing prices for SPY and AGG\n",
    "Data = Alpaca.get_barset(\n",
    "    tickers,\n",
    "    timeframe,\n",
    "    start = Now,\n",
    "    end = Now\n",
    ").df\n",
    "\n",
    "# Preview DataFrame\n",
    "Data"
   ]
  },
  {
   "cell_type": "code",
   "execution_count": 10,
   "metadata": {},
   "outputs": [
    {
     "name": "stdout",
     "output_type": "stream",
     "text": [
      "Current AGG closing price: $117.87\n",
      "Current SPY closing price: $338.25\n"
     ]
    }
   ],
   "source": [
    "# Pick AGG and SPY close prices\n",
    "AGG_Close_Price = Data[\"AGG\"][\"close\"][0]\n",
    "SPY_Close_Price = Data[\"SPY\"][\"close\"][0]\n",
    "\n",
    "# Print AGG and SPY close prices\n",
    "print(f\"Current AGG closing price: ${AGG_Close_Price}\")\n",
    "print(f\"Current SPY closing price: ${SPY_Close_Price}\")"
   ]
  },
  {
   "cell_type": "code",
   "execution_count": 11,
   "metadata": {},
   "outputs": [
    {
     "name": "stdout",
     "output_type": "stream",
     "text": [
      "The current value of your 50 SPY shares is $16912.50\n",
      "The current value of your 200 AGG shares is $23574.00\n"
     ]
    }
   ],
   "source": [
    "# Compute the current value of shares\n",
    "My_SPY_Value = My_SPY * SPY_Close_Price\n",
    "My_AGG_Value = My_AGG * AGG_Close_Price\n",
    "\n",
    "# Print current value of share\n",
    "print(f\"The current value of your {My_SPY} SPY shares is ${My_SPY_Value:0.2f}\")\n",
    "print(f\"The current value of your {My_AGG} AGG shares is ${My_AGG_Value:0.2f}\")"
   ]
  },
  {
   "cell_type": "markdown",
   "metadata": {},
   "source": [
    "### Savings Health Analysis"
   ]
  },
  {
   "cell_type": "code",
   "execution_count": 12,
   "metadata": {},
   "outputs": [
    {
     "data": {
      "text/html": [
       "<div>\n",
       "<style scoped>\n",
       "    .dataframe tbody tr th:only-of-type {\n",
       "        vertical-align: middle;\n",
       "    }\n",
       "\n",
       "    .dataframe tbody tr th {\n",
       "        vertical-align: top;\n",
       "    }\n",
       "\n",
       "    .dataframe thead th {\n",
       "        text-align: right;\n",
       "    }\n",
       "</style>\n",
       "<table border=\"1\" class=\"dataframe\">\n",
       "  <thead>\n",
       "    <tr style=\"text-align: right;\">\n",
       "      <th></th>\n",
       "      <th>amount</th>\n",
       "    </tr>\n",
       "  </thead>\n",
       "  <tbody>\n",
       "    <tr>\n",
       "      <th>Cryptos Value</th>\n",
       "      <td>18012.975</td>\n",
       "    </tr>\n",
       "    <tr>\n",
       "      <th>Stocks Value</th>\n",
       "      <td>40486.500</td>\n",
       "    </tr>\n",
       "  </tbody>\n",
       "</table>\n",
       "</div>"
      ],
      "text/plain": [
       "                  amount\n",
       "Cryptos Value  18012.975\n",
       "Stocks Value   40486.500"
      ]
     },
     "metadata": {},
     "output_type": "display_data"
    }
   ],
   "source": [
    "# Set monthly household income\n",
    "Monthly_Income = 12000\n",
    "\n",
    "# Create savings DataFrame\n",
    "All_Savings = pd.DataFrame(\n",
    "    [\n",
    "        [My_BTC_Value + My_ETH_Value],\n",
    "        [My_SPY_Value + My_AGG_Value]\n",
    "    ],\n",
    "    index = [\"Cryptos Value\", \"Stocks Value\"],\n",
    "    columns = [\"amount\"]\n",
    ")\n",
    "\n",
    "# Display savings DataFrame\n",
    "display(All_Savings)"
   ]
  },
  {
   "cell_type": "code",
   "execution_count": 13,
   "metadata": {},
   "outputs": [
    {
     "data": {
      "text/plain": [
       "<matplotlib.axes._subplots.AxesSubplot at 0x7fba087e2a90>"
      ]
     },
     "execution_count": 13,
     "metadata": {},
     "output_type": "execute_result"
    },
    {
     "data": {
      "image/png": "[encoded data removed]",
      "text/plain": [
       "<Figure size 360x360 with 1 Axes>"
      ]
     },
     "metadata": {},
     "output_type": "display_data"
    }
   ],
   "source": [
    "# Plot savings pie chart\n",
    "All_Savings.plot(kind = \"pie\", y = \"amount\", figsize = (5,5))"
   ]
  },
  {
   "cell_type": "code",
   "execution_count": 14,
   "metadata": {},
   "outputs": [
    {
     "name": "stdout",
     "output_type": "stream",
     "text": [
      "Congratulations for having enough money in this Fund!\n"
     ]
    }
   ],
   "source": [
    "# Set ideal emergency fund\n",
    "Emergency_Fund = Monthly_Income * 3\n",
    "\n",
    "# Calculate total amount of savings\n",
    "Total_Savings = All_Savings[\"amount\"][\"Cryptos Value\"] + \\\n",
    "    All_Savings[\"amount\"][\"Stocks Value\"]\n",
    "\n",
    "# Validate saving health\n",
    "if Total_Savings > Emergency_Fund:\n",
    "    print(\"Congratulations for having enough money in this Fund!\")\n",
    "elif Total_Savings == Emergency_Fund:\n",
    "    print(\"Congratulations for reaching your Financial Goals\")\n",
    "else:\n",
    "    print(f\"You are ${(Emergency_Fund - Total_Savings):0.2f} away from reaching your Goal\")"
   ]
  },
  {
   "cell_type": "markdown",
   "metadata": {},
   "source": [
    "## Part 2 - Retirement Planning\n",
    "\n",
    "### Monte Carlo Simulation"
   ]
  },
  {
   "cell_type": "code",
   "execution_count": 15,
   "metadata": {},
   "outputs": [],
   "source": [
    "# Set start and end dates of five years back from today.\n",
    "# Sample results may vary from the solution based on the time frame chosen\n",
    "start_date = pd.Timestamp('2015-08-07', tz='America/New_York').isoformat()\n",
    "end_date = pd.Timestamp('2020-08-07', tz='America/New_York').isoformat()"
   ]
  },
  {
   "cell_type": "code",
   "execution_count": 16,
   "metadata": {},
   "outputs": [
    {
     "data": {
      "text/html": [
       "<div>\n",
       "<style scoped>\n",
       "    .dataframe tbody tr th:only-of-type {\n",
       "        vertical-align: middle;\n",
       "    }\n",
       "\n",
       "    .dataframe tbody tr th {\n",
       "        vertical-align: top;\n",
       "    }\n",
       "\n",
       "    .dataframe thead tr th {\n",
       "        text-align: left;\n",
       "    }\n",
       "</style>\n",
       "<table border=\"1\" class=\"dataframe\">\n",
       "  <thead>\n",
       "    <tr>\n",
       "      <th></th>\n",
       "      <th colspan=\"5\" halign=\"left\">AGG</th>\n",
       "      <th colspan=\"5\" halign=\"left\">SPY</th>\n",
       "    </tr>\n",
       "    <tr>\n",
       "      <th></th>\n",
       "      <th>open</th>\n",
       "      <th>high</th>\n",
       "      <th>low</th>\n",
       "      <th>close</th>\n",
       "      <th>volume</th>\n",
       "      <th>open</th>\n",
       "      <th>high</th>\n",
       "      <th>low</th>\n",
       "      <th>close</th>\n",
       "      <th>volume</th>\n",
       "    </tr>\n",
       "  </thead>\n",
       "  <tbody>\n",
       "    <tr>\n",
       "      <th>2015-08-07 00:00:00-04:00</th>\n",
       "      <td>109.14</td>\n",
       "      <td>109.2750</td>\n",
       "      <td>109.035</td>\n",
       "      <td>109.21</td>\n",
       "      <td>2041167</td>\n",
       "      <td>208.16</td>\n",
       "      <td>208.34</td>\n",
       "      <td>206.87</td>\n",
       "      <td>207.93</td>\n",
       "      <td>87669782</td>\n",
       "    </tr>\n",
       "    <tr>\n",
       "      <th>2015-08-10 00:00:00-04:00</th>\n",
       "      <td>109.15</td>\n",
       "      <td>109.1700</td>\n",
       "      <td>108.920</td>\n",
       "      <td>109.06</td>\n",
       "      <td>1149778</td>\n",
       "      <td>209.28</td>\n",
       "      <td>210.67</td>\n",
       "      <td>209.28</td>\n",
       "      <td>210.58</td>\n",
       "      <td>66755890</td>\n",
       "    </tr>\n",
       "    <tr>\n",
       "      <th>2015-08-11 00:00:00-04:00</th>\n",
       "      <td>109.42</td>\n",
       "      <td>109.5765</td>\n",
       "      <td>109.284</td>\n",
       "      <td>109.42</td>\n",
       "      <td>1420907</td>\n",
       "      <td>208.98</td>\n",
       "      <td>209.47</td>\n",
       "      <td>207.76</td>\n",
       "      <td>208.63</td>\n",
       "      <td>88424557</td>\n",
       "    </tr>\n",
       "    <tr>\n",
       "      <th>2015-08-12 00:00:00-04:00</th>\n",
       "      <td>109.55</td>\n",
       "      <td>109.7100</td>\n",
       "      <td>109.350</td>\n",
       "      <td>109.36</td>\n",
       "      <td>1468979</td>\n",
       "      <td>207.11</td>\n",
       "      <td>209.14</td>\n",
       "      <td>205.36</td>\n",
       "      <td>208.89</td>\n",
       "      <td>136171450</td>\n",
       "    </tr>\n",
       "    <tr>\n",
       "      <th>2015-08-13 00:00:00-04:00</th>\n",
       "      <td>109.36</td>\n",
       "      <td>109.3651</td>\n",
       "      <td>109.110</td>\n",
       "      <td>109.15</td>\n",
       "      <td>1465173</td>\n",
       "      <td>208.73</td>\n",
       "      <td>209.55</td>\n",
       "      <td>208.01</td>\n",
       "      <td>208.63</td>\n",
       "      <td>77197796</td>\n",
       "    </tr>\n",
       "  </tbody>\n",
       "</table>\n",
       "</div>"
      ],
      "text/plain": [
       "                              AGG                                         SPY  \\\n",
       "                             open      high      low   close   volume    open   \n",
       "2015-08-07 00:00:00-04:00  109.14  109.2750  109.035  109.21  2041167  208.16   \n",
       "2015-08-10 00:00:00-04:00  109.15  109.1700  108.920  109.06  1149778  209.28   \n",
       "2015-08-11 00:00:00-04:00  109.42  109.5765  109.284  109.42  1420907  208.98   \n",
       "2015-08-12 00:00:00-04:00  109.55  109.7100  109.350  109.36  1468979  207.11   \n",
       "2015-08-13 00:00:00-04:00  109.36  109.3651  109.110  109.15  1465173  208.73   \n",
       "\n",
       "                                                              \n",
       "                             high     low   close     volume  \n",
       "2015-08-07 00:00:00-04:00  208.34  206.87  207.93   87669782  \n",
       "2015-08-10 00:00:00-04:00  210.67  209.28  210.58   66755890  \n",
       "2015-08-11 00:00:00-04:00  209.47  207.76  208.63   88424557  \n",
       "2015-08-12 00:00:00-04:00  209.14  205.36  208.89  136171450  \n",
       "2015-08-13 00:00:00-04:00  209.55  208.01  208.63   77197796  "
      ]
     },
     "execution_count": 16,
     "metadata": {},
     "output_type": "execute_result"
    }
   ],
   "source": [
    "# Get 5 years' worth of historical data for SPY and AGG\n",
    "# Set the tickers\n",
    "tickers = [\"AGG\", \"SPY\"]\n",
    "\n",
    "# Set timeframe to '1D' for Alpaca API\n",
    "timeframe = \"1D\"\n",
    "\n",
    "# Get current closing prices for SPY and AGG\n",
    "df_stock_data = Alpaca.get_barset(\n",
    "    tickers,\n",
    "    timeframe,\n",
    "    start = start_date,\n",
    "    end = end_date\n",
    ").df\n",
    "\n",
    "# Display sample data\n",
    "df_stock_data.head()"
   ]
  },
  {
   "cell_type": "code",
   "execution_count": 17,
   "metadata": {},
   "outputs": [
    {
     "data": {
      "text/plain": [
       "<MCForecastTools.MCSimulation at 0x7fba08895e50>"
      ]
     },
     "execution_count": 17,
     "metadata": {},
     "output_type": "execute_result"
    }
   ],
   "source": [
    "# Configuring a Monte Carlo simulation to forecast 30 years cumulative returns\n",
    "mc = MCSimulation(\n",
    "    df_stock_data,\n",
    "    num_simulation = 500,\n",
    "    num_trading_days = 30*252\n",
    ")\n",
    "mc"
   ]
  },
  {
   "cell_type": "code",
   "execution_count": 18,
   "metadata": {},
   "outputs": [
    {
     "data": {
      "text/html": [
       "<div>\n",
       "<style scoped>\n",
       "    .dataframe tbody tr th:only-of-type {\n",
       "        vertical-align: middle;\n",
       "    }\n",
       "\n",
       "    .dataframe tbody tr th {\n",
       "        vertical-align: top;\n",
       "    }\n",
       "\n",
       "    .dataframe thead tr th {\n",
       "        text-align: left;\n",
       "    }\n",
       "</style>\n",
       "<table border=\"1\" class=\"dataframe\">\n",
       "  <thead>\n",
       "    <tr>\n",
       "      <th></th>\n",
       "      <th colspan=\"5\" halign=\"left\">AGG</th>\n",
       "      <th colspan=\"5\" halign=\"left\">SPY</th>\n",
       "    </tr>\n",
       "    <tr>\n",
       "      <th></th>\n",
       "      <th>open</th>\n",
       "      <th>high</th>\n",
       "      <th>low</th>\n",
       "      <th>close</th>\n",
       "      <th>volume</th>\n",
       "      <th>open</th>\n",
       "      <th>high</th>\n",
       "      <th>low</th>\n",
       "      <th>close</th>\n",
       "      <th>volume</th>\n",
       "    </tr>\n",
       "  </thead>\n",
       "  <tbody>\n",
       "    <tr>\n",
       "      <th>2015-08-07 00:00:00-04:00</th>\n",
       "      <td>109.14</td>\n",
       "      <td>109.2750</td>\n",
       "      <td>109.035</td>\n",
       "      <td>109.21</td>\n",
       "      <td>2041167</td>\n",
       "      <td>208.16</td>\n",
       "      <td>208.34</td>\n",
       "      <td>206.87</td>\n",
       "      <td>207.93</td>\n",
       "      <td>87669782</td>\n",
       "    </tr>\n",
       "    <tr>\n",
       "      <th>2015-08-10 00:00:00-04:00</th>\n",
       "      <td>109.15</td>\n",
       "      <td>109.1700</td>\n",
       "      <td>108.920</td>\n",
       "      <td>109.06</td>\n",
       "      <td>1149778</td>\n",
       "      <td>209.28</td>\n",
       "      <td>210.67</td>\n",
       "      <td>209.28</td>\n",
       "      <td>210.58</td>\n",
       "      <td>66755890</td>\n",
       "    </tr>\n",
       "    <tr>\n",
       "      <th>2015-08-11 00:00:00-04:00</th>\n",
       "      <td>109.42</td>\n",
       "      <td>109.5765</td>\n",
       "      <td>109.284</td>\n",
       "      <td>109.42</td>\n",
       "      <td>1420907</td>\n",
       "      <td>208.98</td>\n",
       "      <td>209.47</td>\n",
       "      <td>207.76</td>\n",
       "      <td>208.63</td>\n",
       "      <td>88424557</td>\n",
       "    </tr>\n",
       "    <tr>\n",
       "      <th>2015-08-12 00:00:00-04:00</th>\n",
       "      <td>109.55</td>\n",
       "      <td>109.7100</td>\n",
       "      <td>109.350</td>\n",
       "      <td>109.36</td>\n",
       "      <td>1468979</td>\n",
       "      <td>207.11</td>\n",
       "      <td>209.14</td>\n",
       "      <td>205.36</td>\n",
       "      <td>208.89</td>\n",
       "      <td>136171450</td>\n",
       "    </tr>\n",
       "    <tr>\n",
       "      <th>2015-08-13 00:00:00-04:00</th>\n",
       "      <td>109.36</td>\n",
       "      <td>109.3651</td>\n",
       "      <td>109.110</td>\n",
       "      <td>109.15</td>\n",
       "      <td>1465173</td>\n",
       "      <td>208.73</td>\n",
       "      <td>209.55</td>\n",
       "      <td>208.01</td>\n",
       "      <td>208.63</td>\n",
       "      <td>77197796</td>\n",
       "    </tr>\n",
       "  </tbody>\n",
       "</table>\n",
       "</div>"
      ],
      "text/plain": [
       "                              AGG                                         SPY  \\\n",
       "                             open      high      low   close   volume    open   \n",
       "2015-08-07 00:00:00-04:00  109.14  109.2750  109.035  109.21  2041167  208.16   \n",
       "2015-08-10 00:00:00-04:00  109.15  109.1700  108.920  109.06  1149778  209.28   \n",
       "2015-08-11 00:00:00-04:00  109.42  109.5765  109.284  109.42  1420907  208.98   \n",
       "2015-08-12 00:00:00-04:00  109.55  109.7100  109.350  109.36  1468979  207.11   \n",
       "2015-08-13 00:00:00-04:00  109.36  109.3651  109.110  109.15  1465173  208.73   \n",
       "\n",
       "                                                              \n",
       "                             high     low   close     volume  \n",
       "2015-08-07 00:00:00-04:00  208.34  206.87  207.93   87669782  \n",
       "2015-08-10 00:00:00-04:00  210.67  209.28  210.58   66755890  \n",
       "2015-08-11 00:00:00-04:00  209.47  207.76  208.63   88424557  \n",
       "2015-08-12 00:00:00-04:00  209.14  205.36  208.89  136171450  \n",
       "2015-08-13 00:00:00-04:00  209.55  208.01  208.63   77197796  "
      ]
     },
     "execution_count": 18,
     "metadata": {},
     "output_type": "execute_result"
    }
   ],
   "source": [
    "# Printing the simulation input data\n",
    "df_stock_data.head()"
   ]
  },
  {
   "cell_type": "code",
   "execution_count": null,
   "metadata": {},
   "outputs": [
    {
     "name": "stdout",
     "output_type": "stream",
     "text": [
      "Running Monte Carlo simulation number 0.\n",
      "Running Monte Carlo simulation number 10.\n",
      "Running Monte Carlo simulation number 20.\n",
      "Running Monte Carlo simulation number 30.\n",
      "Running Monte Carlo simulation number 40.\n",
      "Running Monte Carlo simulation number 50.\n",
      "Running Monte Carlo simulation number 60.\n",
      "Running Monte Carlo simulation number 70.\n",
      "Running Monte Carlo simulation number 80.\n",
      "Running Monte Carlo simulation number 90.\n",
      "Running Monte Carlo simulation number 100.\n",
      "Running Monte Carlo simulation number 110.\n",
      "Running Monte Carlo simulation number 120.\n",
      "Running Monte Carlo simulation number 130.\n",
      "Running Monte Carlo simulation number 140.\n",
      "Running Monte Carlo simulation number 150.\n",
      "Running Monte Carlo simulation number 160.\n",
      "Running Monte Carlo simulation number 170.\n",
      "Running Monte Carlo simulation number 180.\n",
      "Running Monte Carlo simulation number 190.\n",
      "Running Monte Carlo simulation number 200.\n",
      "Running Monte Carlo simulation number 210.\n",
      "Running Monte Carlo simulation number 220.\n",
      "Running Monte Carlo simulation number 230.\n",
      "Running Monte Carlo simulation number 240.\n",
      "Running Monte Carlo simulation number 250.\n",
      "Running Monte Carlo simulation number 260.\n",
      "Running Monte Carlo simulation number 270.\n",
      "Running Monte Carlo simulation number 280.\n",
      "Running Monte Carlo simulation number 290.\n",
      "Running Monte Carlo simulation number 300.\n",
      "Running Monte Carlo simulation number 310.\n",
      "Running Monte Carlo simulation number 320.\n",
      "Running Monte Carlo simulation number 330.\n",
      "Running Monte Carlo simulation number 340.\n",
      "Running Monte Carlo simulation number 350.\n",
      "Running Monte Carlo simulation number 360.\n",
      "Running Monte Carlo simulation number 370.\n",
      "Running Monte Carlo simulation number 380.\n",
      "Running Monte Carlo simulation number 390.\n",
      "Running Monte Carlo simulation number 400.\n",
      "Running Monte Carlo simulation number 410.\n",
      "Running Monte Carlo simulation number 420.\n",
      "Running Monte Carlo simulation number 430.\n",
      "Running Monte Carlo simulation number 440.\n"
     ]
    }
   ],
   "source": [
    "# Running a Monte Carlo simulation to forecast 30 years cumulative returns\n",
    "mc.calc_cumulative_return()"
   ]
  },
  {
   "cell_type": "code",
   "execution_count": null,
   "metadata": {},
   "outputs": [],
   "source": [
    "# Plot simulation outcomes\n",
    "mc.plot_simulation()"
   ]
  },
  {
   "cell_type": "code",
   "execution_count": null,
   "metadata": {},
   "outputs": [],
   "source": [
    "# Plot probability distribution and confidence intervals\n",
    "mc.plot_distribution()"
   ]
  },
  {
   "cell_type": "markdown",
   "metadata": {},
   "source": [
    "### Retirement Analysis"
   ]
  },
  {
   "cell_type": "code",
   "execution_count": null,
   "metadata": {},
   "outputs": [],
   "source": [
    "# Fetch summary statistics from the Monte Carlo simulation results\n",
    "Summary_Statistics = mc.summarize_cumulative_return()\n",
    "\n",
    "# Print summary statistics\n",
    "print(Summary_Statistics)"
   ]
  },
  {
   "cell_type": "markdown",
   "metadata": {},
   "source": [
    "### Calculate the expected portfolio return at the 95% lower and upper confidence intervals based on a `$20,000` initial investment."
   ]
  },
  {
   "cell_type": "code",
   "execution_count": null,
   "metadata": {},
   "outputs": [],
   "source": [
    "# Set initial investment\n",
    "initial_investment = 20000\n",
    "\n",
    "# Use the lower and upper `95%` confidence intervals to calculate the range of the possible outcomes of our $20,000\n",
    "ci_lower = Summary_Statistics[8] * initial_investment\n",
    "ci_upper = Summary_Statistics[9] * initial_investment\n",
    "\n",
    "# Print results\n",
    "print(f\"There is a 95% chance that an initial investment of ${initial_investment} in the portfolio\"\n",
    "      f\" over the next 30 years will end within in the range of\"\n",
    "      f\" ${ci_lower} and ${ci_upper}\")"
   ]
  },
  {
   "cell_type": "markdown",
   "metadata": {},
   "source": [
    "### Calculate the expected portfolio return at the `95%` lower and upper confidence intervals based on a `50%` increase in the initial investment."
   ]
  },
  {
   "cell_type": "code",
   "execution_count": null,
   "metadata": {},
   "outputs": [],
   "source": [
    "# Set initial investment\n",
    "initial_investment = 20000 * 1.5\n",
    "\n",
    "# Use the lower and upper `95%` confidence intervals to calculate the range of the possible outcomes of our $30,000\n",
    "ci_lower = round(Summary_Statistics[8] * initial_investment, 2)\n",
    "ci_upper = round(Summary_Statistics[9] * initial_investment, 2)\n",
    "\n",
    "# Print results\n",
    "print(f\"There is a 95% chance that an initial investment of ${initial_investment} in the portfolio\"\n",
    "      f\" over the next 30 years will end within in the range of\"\n",
    "      f\" ${ci_lower} and ${ci_upper}\")"
   ]
  },
  {
   "cell_type": "markdown",
   "metadata": {},
   "source": [
    "## Optional Challenge - Early Retirement\n",
    "\n",
    "\n",
    "### Five Years Retirement Option"
   ]
  },
  {
   "cell_type": "code",
   "execution_count": null,
   "metadata": {},
   "outputs": [],
   "source": [
    "# Configuring a Monte Carlo simulation to forecast 5 years cumulative returns\n",
    "mc_5Years = MCSimulation(\n",
    "    df_stock_data,\n",
    "    num_simulation = 500,\n",
    "    num_trading_days = 5*252\n",
    ")\n",
    "mc_5Years"
   ]
  },
  {
   "cell_type": "code",
   "execution_count": null,
   "metadata": {},
   "outputs": [],
   "source": [
    "# Running a Monte Carlo simulation to forecast 5 years cumulative returns\n",
    "mc_5Years.calc_cumulative_return()"
   ]
  },
  {
   "cell_type": "code",
   "execution_count": null,
   "metadata": {},
   "outputs": [],
   "source": [
    "# Plot simulation outcomes\n",
    "mc_5Years.plot_simulation()"
   ]
  },
  {
   "cell_type": "code",
   "execution_count": null,
   "metadata": {},
   "outputs": [],
   "source": [
    "# Plot probability distribution and confidence intervals\n",
    "mc_5Years.plot_distribution()"
   ]
  },
  {
   "cell_type": "code",
   "execution_count": null,
   "metadata": {},
   "outputs": [],
   "source": [
    "# Fetch summary statistics from the Monte Carlo simulation results\n",
    "Summary_Statistics_1 = mc_5Years.summarize_cumulative_return()\n",
    "\n",
    "# Print summary statistics\n",
    "print(Summary_Statistics)"
   ]
  },
  {
   "cell_type": "code",
   "execution_count": null,
   "metadata": {},
   "outputs": [],
   "source": [
    "# Set initial investment\n",
    "initial_investment_1 = 60000\n",
    "\n",
    "# Use the lower and upper `95%` confidence intervals to calculate the range of the possible outcomes of our $60,000\n",
    "ci_lower_five = round(Summary_Statistics_1[8] * initial_investment_1, 2)\n",
    "ci_upper_five = round(Summary_Statistics_1[9] * initial_investment_1, 2)\n",
    "\n",
    "# Print results\n",
    "print(f\"There is a 95% chance that an initial investment of ${initial_investment_1} in the portfolio\"\n",
    "      f\" over the next 5 years will end within in the range of\"\n",
    "      f\" ${ci_lower_five} and ${ci_upper_five}\")"
   ]
  },
  {
   "cell_type": "markdown",
   "metadata": {},
   "source": [
    "### Ten Years Retirement Option"
   ]
  },
  {
   "cell_type": "code",
   "execution_count": null,
   "metadata": {},
   "outputs": [],
   "source": [
    "# Configuring a Monte Carlo simulation to forecast 10 years cumulative returns\n",
    "mc_10Years = MCSimulation(\n",
    "    df_stock_data,\n",
    "    num_simulation = 500,\n",
    "    num_trading_days = 10*252\n",
    ")\n",
    "mc_10Years"
   ]
  },
  {
   "cell_type": "code",
   "execution_count": null,
   "metadata": {},
   "outputs": [],
   "source": [
    "# Running a Monte Carlo simulation to forecast 10 years cumulative returns\n",
    "mc_10Years.calc_cumulative_return()"
   ]
  },
  {
   "cell_type": "code",
   "execution_count": null,
   "metadata": {},
   "outputs": [],
   "source": [
    "# Plot simulation outcomes\n",
    "mc_10Years.plot_simulation()"
   ]
  },
  {
   "cell_type": "code",
   "execution_count": null,
   "metadata": {},
   "outputs": [],
   "source": [
    "# Plot probability distribution and confidence intervals\n",
    "mc_10Years.plot_distribution()"
   ]
  },
  {
   "cell_type": "code",
   "execution_count": null,
   "metadata": {},
   "outputs": [],
   "source": [
    "# Fetch summary statistics from the Monte Carlo simulation results\n",
    "Summary_Statistics_2 = mc_10Years.summarize_cumulative_return()\n",
    "\n",
    "# Print summary statistics\n",
    "print(Summary_Statistics_2)"
   ]
  },
  {
   "cell_type": "code",
   "execution_count": null,
   "metadata": {},
   "outputs": [],
   "source": [
    "# Set initial investment\n",
    "initial_investment_2 = 60000\n",
    "\n",
    "# Use the lower and upper `95%` confidence intervals to calculate the range of the possible outcomes of our $60,000\n",
    "ci_lower_ten = round(Summary_Statistics_2[8] * initial_investment_2, 2)\n",
    "ci_upper_ten = round(Summary_Statistics_2[9] * initial_investment_2, 2)\n",
    "\n",
    "# Print results\n",
    "print(f\"There is a 95% chance that an initial investment of ${initial_investment_2} in the portfolio\"\n",
    "      f\" over the next 10 years will end within in the range of\"\n",
    "      f\" ${ci_lower_ten} and ${ci_upper_ten}\")"
   ]
  },
  {
   "cell_type": "code",
   "execution_count": null,
   "metadata": {},
   "outputs": [],
   "source": []
  }
 ],
 "metadata": {
  "kernelspec": {
   "display_name": "Python 3",
   "language": "python",
   "name": "python3"
  },
  "language_info": {
   "codemirror_mode": {
    "name": "ipython",
    "version": 3
   },
   "file_extension": ".py",
   "mimetype": "text/x-python",
   "name": "python",
   "nbconvert_exporter": "python",
   "pygments_lexer": "ipython3",
   "version": "3.8.3"
  }
 },
 "nbformat": 4,
 "nbformat_minor": 4
}
